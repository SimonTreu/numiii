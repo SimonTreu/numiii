{
 "cells": [
  {
   "cell_type": "code",
   "execution_count": 17,
   "metadata": {
    "collapsed": false
   },
   "outputs": [],
   "source": [
    "### Solve Heat Equation\n",
    "\n",
    "import numpy as np\n",
    "import matplotlib.pyplot as plt\n",
    "%matplotlib inline\n",
    "import numpy.testing as nptest\n",
    "import scipy.sparse as sparse\n",
    "import scipy.sparse.linalg as sparselinalg"
   ]
  },
  {
   "cell_type": "code",
   "execution_count": 18,
   "metadata": {
    "collapsed": true
   },
   "outputs": [],
   "source": [
    "# we are trying to solve problem for which u(x,y) = x**4*y**5-17*sin(xy) is a solution"
   ]
  },
  {
   "cell_type": "code",
   "execution_count": 19,
   "metadata": {
    "collapsed": true
   },
   "outputs": [],
   "source": [
    "def u(x,y): return x**4*y**5-17*np.sin(x*y)"
   ]
  },
  {
   "cell_type": "code",
   "execution_count": 20,
   "metadata": {
    "collapsed": false
   },
   "outputs": [],
   "source": [
    "#RHS\n",
    "def f(x,y): return -(12*x**2*y**5+20*x**4*y**3+(x**2+y**2)*17*np.sin(x*y))"
   ]
  },
  {
   "cell_type": "code",
   "execution_count": 21,
   "metadata": {
    "collapsed": true
   },
   "outputs": [],
   "source": [
    "# our Omega is (0,1)x(0,1)\n",
    "###generate RHS f, order nodes lexicographically\n",
    "# determine pointwise values for u\n",
    "\n"
   ]
  },
  {
   "cell_type": "code",
   "execution_count": 22,
   "metadata": {
    "collapsed": false
   },
   "outputs": [],
   "source": [
    "#generate mesh, i.e. x_i,y_i (including the boundary)\n",
    "# our n ranges from 2 to 8, i.e. if n=2, we have h_x=h_y=1/4\n",
    "# if h=2**(-n), then there are 2**n+1 grid points in each direction\n",
    "\n",
    "def meshvector(n):\n",
    "    h=2**(-n)\n",
    "    pts=2**n-1\n",
    "    x=np.zeros(((2**n-1)**2,2))\n",
    "    # print(len(x))\n",
    "    for j in range(pts):\n",
    "        for i in range(pts):\n",
    "            x[pts*j+i,0]=(i+1)*2**(-n)\n",
    "            x[pts*j+i,1]=(j+1)*2**(-n)\n",
    "            # print((i,j))\n",
    "            # print(x[n*j+i,:])\n",
    "    return x"
   ]
  },
  {
   "cell_type": "code",
   "execution_count": 23,
   "metadata": {
    "collapsed": false
   },
   "outputs": [
    {
     "data": {
      "text/plain": [
       "array([[ 0.25,  0.25],\n",
       "       [ 0.5 ,  0.25],\n",
       "       [ 0.75,  0.25],\n",
       "       [ 0.25,  0.5 ],\n",
       "       [ 0.5 ,  0.5 ],\n",
       "       [ 0.75,  0.5 ],\n",
       "       [ 0.25,  0.75],\n",
       "       [ 0.5 ,  0.75],\n",
       "       [ 0.75,  0.75]])"
      ]
     },
     "execution_count": 23,
     "metadata": {},
     "output_type": "execute_result"
    }
   ],
   "source": [
    "meshvector(2)"
   ]
  },
  {
   "cell_type": "code",
   "execution_count": 47,
   "metadata": {
    "collapsed": false
   },
   "outputs": [],
   "source": [
    "# determine values for f on mesh\n",
    "\n",
    "def f_on_mesh(x,n):\n",
    "    if(n==1):\n",
    "        print(\"error, n too small\")\n",
    "    h=2**(-n)\n",
    "    #print(h)\n",
    "    #print(1/h**2)\n",
    "    len_x=len(x)\n",
    "    f_mesh = np.zeros(len_x)\n",
    "    f_meshNoBound = np.zeros(len_x)\n",
    "    for i in range(len_x):\n",
    "        #print(\"index\", i)\n",
    "        f_mesh[i]=f(x[i,0],x[i,1])\n",
    "        f_meshNoBound[i]=f_mesh[i]\n",
    "        #print(f_mesh[i])\n",
    "        if(i<2**n-1):\n",
    "            f_mesh[i]+=u(x[i,0],x[i,1]-h)/h**2\n",
    "            #print(1)\n",
    "        if(i>=(2**n-1)*(2**n-2)):\n",
    "            f_mesh[i]+=u(x[i,0],x[i,1]+h)/h**2\n",
    "            #print(2)\n",
    "        if((i % (2**n-1))==(2**n-2)):\n",
    "            f_mesh[i]+=u(x[i,0]+h,x[i,1])/h**2\n",
    "            #print(3)\n",
    "            #print(u(x[i,0]+h,x[i,1])/h**2)\n",
    "            #print(u(x[i,0]+h,x[i,1]))\n",
    "        if((i % (2**n-1))==0):\n",
    "            f_mesh[i]+=u(x[i,0]-h,x[i,1])/h**2\n",
    "            # print(i % (2**n-1))\n",
    "            #print(4)\n",
    "            # print(x[i,:])\n",
    "            # print(f_mesh[i])\n",
    "    # print(\"f_mesh_no_bound: \", f_meshNoBound)\n",
    "    return f_mesh        "
   ]
  },
  {
   "cell_type": "code",
   "execution_count": 37,
   "metadata": {
    "collapsed": false
   },
   "outputs": [
    {
     "name": "stdout",
     "output_type": "stream",
     "text": [
      "f_mesh_no_bound:  [ -0.13467918  -0.68479546  -2.08600378  -0.69553765  -2.35293365\n",
      "  -6.06109243  -2.19147253  -6.29839712 -14.47089801]\n"
     ]
    },
    {
     "data": {
      "text/plain": [
       "array([ -1.34679175e-01,  -6.84795459e-01,  -6.93642557e+01,\n",
       "        -6.95537646e-01,  -2.35293365e+00,  -1.35964839e+02,\n",
       "        -6.94228494e+01,  -1.35702144e+02,  -3.76423008e+02])"
      ]
     },
     "execution_count": 37,
     "metadata": {},
     "output_type": "execute_result"
    }
   ],
   "source": [
    "x = meshvector(2)\n",
    "f_on_mesh(x,2)"
   ]
  },
  {
   "cell_type": "code",
   "execution_count": null,
   "metadata": {
    "collapsed": false
   },
   "outputs": [],
   "source": []
  },
  {
   "cell_type": "code",
   "execution_count": null,
   "metadata": {
    "collapsed": false
   },
   "outputs": [],
   "source": []
  },
  {
   "cell_type": "code",
   "execution_count": 28,
   "metadata": {
    "collapsed": false,
    "scrolled": true
   },
   "outputs": [],
   "source": [
    "# generating B part of A\n",
    "\n",
    "def BpartA(n):\n",
    "    h=1/2**n\n",
    "    N=2**n-1\n",
    "    data=[[-1/h**2]*(N)**2, [4/h**2]*(N)**2, [-1/h**2]*(N)**2]\n",
    "    offsets = np.array([-1,0,1])\n",
    "    b = sparse.dia_matrix((data, offsets),shape=(N,N)).toarray() \n",
    "    bmultiple = (b,)*(N)\n",
    "    return sparse.block_diag(bmultiple).toarray()"
   ]
  },
  {
   "cell_type": "code",
   "execution_count": 29,
   "metadata": {
    "collapsed": false
   },
   "outputs": [
    {
     "data": {
      "text/plain": [
       "array([[ 64., -16.,   0.,   0.,   0.,   0.,   0.,   0.,   0.],\n",
       "       [-16.,  64., -16.,   0.,   0.,   0.,   0.,   0.,   0.],\n",
       "       [  0., -16.,  64.,   0.,   0.,   0.,   0.,   0.,   0.],\n",
       "       [  0.,   0.,   0.,  64., -16.,   0.,   0.,   0.,   0.],\n",
       "       [  0.,   0.,   0., -16.,  64., -16.,   0.,   0.,   0.],\n",
       "       [  0.,   0.,   0.,   0., -16.,  64.,   0.,   0.,   0.],\n",
       "       [  0.,   0.,   0.,   0.,   0.,   0.,  64., -16.,   0.],\n",
       "       [  0.,   0.,   0.,   0.,   0.,   0., -16.,  64., -16.],\n",
       "       [  0.,   0.,   0.,   0.,   0.,   0.,   0., -16.,  64.]])"
      ]
     },
     "execution_count": 29,
     "metadata": {},
     "output_type": "execute_result"
    }
   ],
   "source": [
    "BpartA(2)"
   ]
  },
  {
   "cell_type": "code",
   "execution_count": 30,
   "metadata": {
    "collapsed": false
   },
   "outputs": [],
   "source": [
    "def CpartA(n):\n",
    "    h=1/2**n\n",
    "    N=2**n-1\n",
    "    cdata=[[-1/h**2]*(N)**2,[-1/h**2]*(N)**2]\n",
    "    offset=np.array([N,-N])\n",
    "    return sparse.dia_matrix((cdata, offset),shape=((N)*(N),(N)*(N))).toarray()"
   ]
  },
  {
   "cell_type": "code",
   "execution_count": 31,
   "metadata": {
    "collapsed": false
   },
   "outputs": [
    {
     "data": {
      "text/plain": [
       "<matplotlib.image.AxesImage at 0x898deb8>"
      ]
     },
     "execution_count": 31,
     "metadata": {},
     "output_type": "execute_result"
    },
    {
     "data": {
      "image/png": "[encoded data removed]",
      "text/plain": [
       "<matplotlib.figure.Figure at 0x8794a90>"
      ]
     },
     "metadata": {},
     "output_type": "display_data"
    }
   ],
   "source": [
    "c=CpartA(2)\n",
    "plt.imshow(c, interpolation='none')"
   ]
  },
  {
   "cell_type": "code",
   "execution_count": 49,
   "metadata": {
    "collapsed": true
   },
   "outputs": [],
   "source": [
    "def generateA(n):\n",
    "    A=BpartA(n)+CpartA(n)\n",
    "    #print(A.shape)\n",
    "    return A"
   ]
  },
  {
   "cell_type": "code",
   "execution_count": 39,
   "metadata": {
    "collapsed": false
   },
   "outputs": [
    {
     "name": "stdout",
     "output_type": "stream",
     "text": [
      "(9, 9)\n"
     ]
    },
    {
     "data": {
      "text/plain": [
       "<matplotlib.image.AxesImage at 0x8d24e80>"
      ]
     },
     "execution_count": 39,
     "metadata": {},
     "output_type": "execute_result"
    },
    {
     "data": {
      "image/png": "[encoded data removed]",
      "text/plain": [
       "<matplotlib.figure.Figure at 0x8a97710>"
      ]
     },
     "metadata": {},
     "output_type": "display_data"
    }
   ],
   "source": [
    "a=generateA(2)\n",
    "plt.imshow(a, interpolation='none')"
   ]
  },
  {
   "cell_type": "code",
   "execution_count": 50,
   "metadata": {
    "collapsed": false
   },
   "outputs": [
    {
     "name": "stderr",
     "output_type": "stream",
     "text": [
      "C:\\Users\\Lisa\\Anaconda3\\lib\\site-packages\\scipy\\sparse\\linalg\\dsolve\\linsolve.py:101: SparseEfficiencyWarning: spsolve requires A be CSC or CSR matrix format\n",
      "  SparseEfficiencyWarning)\n"
     ]
    },
    {
     "data": {
      "text/plain": [
       "array([-1.06113632, -2.1179898 , -3.16662852, -2.11813802, -4.20139463,\n",
       "       -6.2132583 , -3.16655004, -6.20913406, -8.9872076 ])"
      ]
     },
     "execution_count": 50,
     "metadata": {},
     "output_type": "execute_result"
    }
   ],
   "source": [
    "x=meshvector(2)\n",
    "f_on_mesh(x,2)\n",
    "generateA(2)\n",
    "sparselinalg.spsolve(generateA(2), f_on_mesh(meshvector(2),2))\n",
    "np.linalg.solve(generateA(2),f_on_mesh(meshvector(2),2))"
   ]
  },
  {
   "cell_type": "code",
   "execution_count": null,
   "metadata": {
    "collapsed": true
   },
   "outputs": [],
   "source": []
  },
  {
   "cell_type": "code",
   "execution_count": 51,
   "metadata": {
    "collapsed": false
   },
   "outputs": [
    {
     "name": "stdout",
     "output_type": "stream",
     "text": [
      "-4.20391418233\n"
     ]
    },
    {
     "name": "stderr",
     "output_type": "stream",
     "text": [
      "C:\\Users\\Lisa\\Anaconda3\\lib\\site-packages\\scipy\\sparse\\linalg\\dsolve\\linsolve.py:101: SparseEfficiencyWarning: spsolve requires A be CSC or CSR matrix format\n",
      "  SparseEfficiencyWarning)\n"
     ]
    },
    {
     "data": {
      "text/plain": [
       "array([ -4.94251142e-05,  -1.00539379e-04,  -1.54884191e-04,\n",
       "        -2.10831761e-04,  -2.58726041e-04,  -2.74629680e-04,\n",
       "        -2.13154784e-04,  -9.70743097e-05,  -1.96686067e-04,\n",
       "        -3.02440174e-04,  -4.11983683e-04,  -5.06986294e-04,\n",
       "        -5.40312801e-04,  -4.21217035e-04,  -1.41605059e-04,\n",
       "        -2.83998146e-04,  -4.34426679e-04,  -5.91915823e-04,\n",
       "        -7.31734693e-04,  -7.85467047e-04,  -6.17419050e-04,\n",
       "        -1.81827704e-04,  -3.56844217e-04,  -5.39543854e-04,\n",
       "        -7.33980517e-04,  -9.13092227e-04,  -9.91365619e-04,\n",
       "        -7.90220621e-04,  -2.14659987e-04,  -4.04843132e-04,\n",
       "        -5.98829054e-04,  -8.10512110e-04,  -1.01663144e-03,\n",
       "        -1.12317321e-03,  -9.16304498e-04,  -2.29155057e-04,\n",
       "        -4.04933814e-04,  -5.77518127e-04,  -7.73540534e-04,\n",
       "        -9.80533132e-04,  -1.11228962e-03,  -9.43641361e-04,\n",
       "        -1.90957295e-04,  -3.05839688e-04,  -4.12951388e-04,\n",
       "        -5.43273934e-04,  -6.97664826e-04,  -8.23271047e-04,\n",
       "        -7.47173586e-04])"
      ]
     },
     "execution_count": 51,
     "metadata": {},
     "output_type": "execute_result"
    }
   ],
   "source": [
    "#compute the real solution at the grid points to check our results\n",
    "\n",
    "n=3\n",
    "x=meshvector(n)\n",
    "u_real=np.zeros(len(x))\n",
    "for i in range(len(x)):\n",
    "    u_real=u(x[:,0],x[:,1])\n",
    "u_approx=sparselinalg.spsolve(generateA(n), f_on_mesh(x,n))\n",
    "print(u(0.5,0.5))\n",
    "u_real-u_approx"
   ]
  },
  {
   "cell_type": "code",
   "execution_count": null,
   "metadata": {
    "collapsed": true
   },
   "outputs": [],
   "source": []
  },
  {
   "cell_type": "code",
   "execution_count": null,
   "metadata": {
    "collapsed": true
   },
   "outputs": [],
   "source": []
  },
  {
   "cell_type": "code",
   "execution_count": null,
   "metadata": {
    "collapsed": true
   },
   "outputs": [],
   "source": []
  },
  {
   "cell_type": "code",
   "execution_count": null,
   "metadata": {
    "collapsed": true
   },
   "outputs": [],
   "source": []
  },
  {
   "cell_type": "code",
   "execution_count": null,
   "metadata": {
    "collapsed": true
   },
   "outputs": [],
   "source": []
  }
 ],
 "metadata": {
  "kernelspec": {
   "display_name": "Python 3",
   "language": "python",
   "name": "python3"
  },
  "language_info": {
   "codemirror_mode": {
    "name": "ipython",
    "version": 3
   },
   "file_extension": ".py",
   "mimetype": "text/x-python",
   "name": "python",
   "nbconvert_exporter": "python",
   "pygments_lexer": "ipython3",
   "version": "3.6.0"
  }
 },
 "nbformat": 4,
 "nbformat_minor": 2
}
