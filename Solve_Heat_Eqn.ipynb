{
 "cells": [
  {
   "cell_type": "code",
   "execution_count": 343,
   "metadata": {
    "collapsed": false
   },
   "outputs": [],
   "source": [
    "### Solve Heat Equation\n",
    "\n",
    "import numpy as np\n",
    "import matplotlib.pyplot as plt\n",
    "%matplotlib inline\n",
    "import numpy.testing as nptest\n",
    "import scipy.sparse as sparse\n",
    "import scipy.sparse.linalg as sparselinalg"
   ]
  },
  {
   "cell_type": "code",
   "execution_count": 326,
   "metadata": {
    "collapsed": true
   },
   "outputs": [],
   "source": [
    "# we are trying to solve problem for which u(x,y) = x**4*y**5-17*sin(xy) is a solution"
   ]
  },
  {
   "cell_type": "code",
   "execution_count": 327,
   "metadata": {
    "collapsed": true
   },
   "outputs": [],
   "source": [
    "def u(x,y): return x**4*y**5-17*np.sin(x*y)"
   ]
  },
  {
   "cell_type": "code",
   "execution_count": 328,
   "metadata": {
    "collapsed": false
   },
   "outputs": [],
   "source": [
    "#RHS\n",
    "def f(x,y): return 12*x**2*y**5+20*x**4*y**3+(x**2+y**2)*17*np.sin(x*y)"
   ]
  },
  {
   "cell_type": "code",
   "execution_count": 329,
   "metadata": {
    "collapsed": true
   },
   "outputs": [],
   "source": [
    "# our Omega is (0,1)x(0,1)\n",
    "###generate RHS f, order nodes lexicographically\n",
    "# determine pointwise values for u\n",
    "\n"
   ]
  },
  {
   "cell_type": "code",
   "execution_count": 330,
   "metadata": {
    "collapsed": false
   },
   "outputs": [],
   "source": [
    "#generate mesh, i.e. x_i,y_i (including the boundary)\n",
    "# our n ranges from 2 to 8, i.e. if n=2, we have h_x=h_y=1/4\n",
    "# if h=2**(-n), then there are 2**n+1 grid points in each direction\n",
    "\n",
    "def meshvector(n):\n",
    "    h=2**(-n)\n",
    "    pts=2**n-1\n",
    "    x=np.zeros(((2**n-1)**2,2))\n",
    "    # print(len(x))\n",
    "    for j in range(pts):\n",
    "        for i in range(pts):\n",
    "            x[pts*j+i,0]=(i+1)*2**(-n)\n",
    "            x[pts*j+i,1]=(j+1)*2**(-n)\n",
    "            # print((i,j))\n",
    "            # print(x[n*j+i,:])\n",
    "    return x"
   ]
  },
  {
   "cell_type": "code",
   "execution_count": 331,
   "metadata": {
    "collapsed": false
   },
   "outputs": [
    {
     "data": {
      "text/plain": [
       "array([[ 0.25,  0.25],\n",
       "       [ 0.5 ,  0.25],\n",
       "       [ 0.75,  0.25],\n",
       "       [ 0.25,  0.5 ],\n",
       "       [ 0.5 ,  0.5 ],\n",
       "       [ 0.75,  0.5 ],\n",
       "       [ 0.25,  0.75],\n",
       "       [ 0.5 ,  0.75],\n",
       "       [ 0.75,  0.75]])"
      ]
     },
     "execution_count": 331,
     "metadata": {},
     "output_type": "execute_result"
    }
   ],
   "source": [
    "meshvector(2)"
   ]
  },
  {
   "cell_type": "code",
   "execution_count": 344,
   "metadata": {
    "collapsed": false
   },
   "outputs": [],
   "source": [
    "# determine values for f on mesh\n",
    "\n",
    "def f_on_mesh(x,n):\n",
    "    if(n==1):\n",
    "        print(\"error, n too small\")\n",
    "    h=2**(-n)\n",
    "    len_x=len(x)\n",
    "    f_mesh = np.zeros(len_x)\n",
    "    for i in range(len_x):\n",
    "        print(\"index\", i)\n",
    "        f_mesh[i]=f(x[i,0],x[i,1])\n",
    "        if(i<2**n-1):\n",
    "            f_mesh[i]+=u(x[i,0],x[i,1]-h)/h**2\n",
    "            print(1)\n",
    "        if(i>=(2**n-1)*(2**n-2)):\n",
    "            f_mesh[i]+=u(x[i,0],x[i,1]+h)/h**2\n",
    "            print(2)\n",
    "        if((i % (2**n-1))==(2**n-2)):\n",
    "            f_mesh[i]+=u(x[i,0]+h,x[i,1])/h**2\n",
    "            print(3)\n",
    "        if((i % (2**n-1))==0):\n",
    "            f_mesh[i]+=u(x[i,0]-h,x[i,1])/h**2\n",
    "            # print(i % (2**n-1))\n",
    "            print(4)\n",
    "            # print(x[i,:])\n",
    "            # print(f_mesh[i])\n",
    "    return f_mesh        "
   ]
  },
  {
   "cell_type": "code",
   "execution_count": 346,
   "metadata": {
    "collapsed": false
   },
   "outputs": [
    {
     "name": "stdout",
     "output_type": "stream",
     "text": [
      "index 0\n",
      "1\n",
      "4\n",
      "index 1\n",
      "1\n",
      "index 2\n",
      "1\n",
      "3\n",
      "index 3\n",
      "4\n",
      "index 4\n",
      "index 5\n",
      "3\n",
      "index 6\n",
      "2\n",
      "4\n",
      "index 7\n",
      "2\n",
      "index 8\n",
      "2\n",
      "3\n"
     ]
    },
    {
     "data": {
      "text/plain": [
       "array([  1.34679175e-01,   6.84795459e-01,  -6.51922481e+01,\n",
       "         6.95537646e-01,   2.35293365e+00,  -1.23842654e+02,\n",
       "        -6.50399044e+01,  -1.23105349e+02,  -3.47481212e+02])"
      ]
     },
     "execution_count": 346,
     "metadata": {},
     "output_type": "execute_result"
    }
   ],
   "source": [
    "x = meshvector(2)\n",
    "f_on_mesh(x,2)"
   ]
  },
  {
   "cell_type": "code",
   "execution_count": 334,
   "metadata": {
    "collapsed": false
   },
   "outputs": [
    {
     "name": "stdout",
     "output_type": "stream",
     "text": [
      "225\n"
     ]
    },
    {
     "ename": "ValueError",
     "evalue": "total size of new array must be unchanged",
     "output_type": "error",
     "traceback": [
      "\u001b[0;31m---------------------------------------------------------------------------\u001b[0m",
      "\u001b[0;31mValueError\u001b[0m                                Traceback (most recent call last)",
      "\u001b[0;32m<ipython-input-334-931627d063f6>\u001b[0m in \u001b[0;36m<module>\u001b[0;34m()\u001b[0m\n\u001b[1;32m      6\u001b[0m \u001b[0mprint\u001b[0m\u001b[1;33m(\u001b[0m\u001b[0mlen\u001b[0m\u001b[1;33m(\u001b[0m\u001b[0mx\u001b[0m\u001b[1;33m)\u001b[0m\u001b[1;33m)\u001b[0m\u001b[1;33m\u001b[0m\u001b[0m\n\u001b[1;32m      7\u001b[0m \u001b[0mf_m\u001b[0m\u001b[1;33m=\u001b[0m\u001b[0mf_on_inner_mesh\u001b[0m\u001b[1;33m(\u001b[0m\u001b[0mx\u001b[0m\u001b[1;33m,\u001b[0m\u001b[0mn\u001b[0m\u001b[1;33m)\u001b[0m\u001b[1;33m\u001b[0m\u001b[0m\n\u001b[0;32m----> 8\u001b[0;31m \u001b[0mf_m\u001b[0m\u001b[1;33m.\u001b[0m\u001b[0mreshape\u001b[0m\u001b[1;33m(\u001b[0m\u001b[1;33m(\u001b[0m\u001b[0mN\u001b[0m\u001b[1;33m,\u001b[0m\u001b[0mN\u001b[0m\u001b[1;33m)\u001b[0m\u001b[1;33m)\u001b[0m\u001b[1;33m\u001b[0m\u001b[0m\n\u001b[0m\u001b[1;32m      9\u001b[0m \u001b[1;33m\u001b[0m\u001b[0m\n\u001b[1;32m     10\u001b[0m \u001b[0mnptest\u001b[0m\u001b[1;33m.\u001b[0m\u001b[0massert_almost_equal\u001b[0m\u001b[1;33m(\u001b[0m\u001b[0mf_m\u001b[0m\u001b[1;33m[\u001b[0m\u001b[1;33m-\u001b[0m\u001b[1;36m1\u001b[0m\u001b[1;33m]\u001b[0m\u001b[1;33m,\u001b[0m \u001b[1;36m1\u001b[0m\u001b[1;33m-\u001b[0m\u001b[1;36m17\u001b[0m\u001b[1;33m*\u001b[0m\u001b[0mnp\u001b[0m\u001b[1;33m.\u001b[0m\u001b[0msin\u001b[0m\u001b[1;33m(\u001b[0m\u001b[1;36m1\u001b[0m\u001b[1;33m)\u001b[0m\u001b[1;33m)\u001b[0m \u001b[1;31m#last entry\u001b[0m\u001b[1;33m\u001b[0m\u001b[0m\n",
      "\u001b[0;31mValueError\u001b[0m: total size of new array must be unchanged"
     ]
    }
   ],
   "source": [
    "#Testing RHS\n",
    "\n",
    "n=4\n",
    "N=2**n+1\n",
    "x = meshvector(n)\n",
    "print(len(x))\n",
    "f_m=f_on_inner_mesh(x,n)\n",
    "f_m.reshape((N,N))\n",
    "\n",
    "nptest.assert_almost_equal(f_m[-1], 1-17*np.sin(1)) #last entry\n",
    "nptest.assert_almost_equal(f_m[:N],[0]*N) #first line is zero\n",
    "nptest.assert_almost_equal(f_m[:N:],[0]*N) #y = 0"
   ]
  },
  {
   "cell_type": "code",
   "execution_count": 335,
   "metadata": {
    "collapsed": false,
    "scrolled": true
   },
   "outputs": [],
   "source": [
    "# generating B part of A\n",
    "\n",
    "def BpartA(n):\n",
    "    h=1/2**n\n",
    "    N=2**n-1\n",
    "    data=[[-1/h**2]*(N)**2, [4/h**2]*(N)**2, [-1/h**2]*(N)**2]\n",
    "    offsets = np.array([-1,0,1])\n",
    "    b = sparse.dia_matrix((data, offsets),shape=(N,N)).toarray() \n",
    "    bmultiple = (b,)*(N)\n",
    "    return sparse.block_diag(bmultiple).toarray()"
   ]
  },
  {
   "cell_type": "code",
   "execution_count": 336,
   "metadata": {
    "collapsed": false
   },
   "outputs": [
    {
     "data": {
      "text/plain": [
       "array([[ 64., -16.,   0.,   0.,   0.,   0.,   0.,   0.,   0.],\n",
       "       [-16.,  64., -16.,   0.,   0.,   0.,   0.,   0.,   0.],\n",
       "       [  0., -16.,  64.,   0.,   0.,   0.,   0.,   0.,   0.],\n",
       "       [  0.,   0.,   0.,  64., -16.,   0.,   0.,   0.,   0.],\n",
       "       [  0.,   0.,   0., -16.,  64., -16.,   0.,   0.,   0.],\n",
       "       [  0.,   0.,   0.,   0., -16.,  64.,   0.,   0.,   0.],\n",
       "       [  0.,   0.,   0.,   0.,   0.,   0.,  64., -16.,   0.],\n",
       "       [  0.,   0.,   0.,   0.,   0.,   0., -16.,  64., -16.],\n",
       "       [  0.,   0.,   0.,   0.,   0.,   0.,   0., -16.,  64.]])"
      ]
     },
     "execution_count": 336,
     "metadata": {},
     "output_type": "execute_result"
    }
   ],
   "source": [
    "BpartA(2)"
   ]
  },
  {
   "cell_type": "code",
   "execution_count": 337,
   "metadata": {
    "collapsed": false
   },
   "outputs": [],
   "source": [
    "def CpartA(n):\n",
    "    h=1/2**n\n",
    "    N=2**n-1\n",
    "    cdata=[[-1/h**2]*(N)**2,[-1/h**2]*(N)**2]\n",
    "    offset=np.array([N,-N])\n",
    "    return sparse.dia_matrix((cdata, offset),shape=((N)*(N),(N)*(N))).toarray()"
   ]
  },
  {
   "cell_type": "code",
   "execution_count": 338,
   "metadata": {
    "collapsed": false
   },
   "outputs": [
    {
     "data": {
      "text/plain": [
       "<matplotlib.image.AxesImage at 0xa49bd68>"
      ]
     },
     "execution_count": 338,
     "metadata": {},
     "output_type": "execute_result"
    },
    {
     "data": {
      "image/png": "[encoded data removed]",
      "text/plain": [
       "<matplotlib.figure.Figure at 0xa42f9e8>"
      ]
     },
     "metadata": {},
     "output_type": "display_data"
    }
   ],
   "source": [
    "c=CpartA(2)\n",
    "plt.imshow(c, interpolation='none')"
   ]
  },
  {
   "cell_type": "code",
   "execution_count": 339,
   "metadata": {
    "collapsed": true
   },
   "outputs": [],
   "source": [
    "def generateA(n):\n",
    "    A=BpartA(n)+CpartA(n)\n",
    "    print(A.shape)\n",
    "    return A"
   ]
  },
  {
   "cell_type": "code",
   "execution_count": 340,
   "metadata": {
    "collapsed": false
   },
   "outputs": [
    {
     "name": "stdout",
     "output_type": "stream",
     "text": [
      "(49, 49)\n"
     ]
    },
    {
     "data": {
      "text/plain": [
       "<matplotlib.image.AxesImage at 0xa52cda0>"
      ]
     },
     "execution_count": 340,
     "metadata": {},
     "output_type": "execute_result"
    },
    {
     "data": {
      "image/png": "[encoded data removed]",
      "text/plain": [
       "<matplotlib.figure.Figure at 0xa4d0da0>"
      ]
     },
     "metadata": {},
     "output_type": "display_data"
    }
   ],
   "source": [
    "a=generateA(3)\n",
    "plt.imshow(a, interpolation='none')"
   ]
  },
  {
   "cell_type": "code",
   "execution_count": 341,
   "metadata": {
    "collapsed": false
   },
   "outputs": [
    {
     "name": "stdout",
     "output_type": "stream",
     "text": [
      "(9, 9)\n",
      "(9, 9)\n",
      "(9, 9)\n"
     ]
    },
    {
     "name": "stderr",
     "output_type": "stream",
     "text": [
      "C:\\Users\\Lisa\\Anaconda3\\lib\\site-packages\\scipy\\sparse\\linalg\\dsolve\\linsolve.py:101: SparseEfficiencyWarning: spsolve requires A be CSC or CSR matrix format\n",
      "  SparseEfficiencyWarning)\n"
     ]
    },
    {
     "data": {
      "text/plain": [
       "array([-0.93845559, -1.88196131, -2.90329709, -1.88027848, -3.72889228,\n",
       "       -5.65671153, -2.89723717, -5.64367616, -8.25449087])"
      ]
     },
     "execution_count": 341,
     "metadata": {},
     "output_type": "execute_result"
    }
   ],
   "source": [
    "x=meshvector(2)\n",
    "f_on_mesh(x,2)\n",
    "generateA(2)\n",
    "sparselinalg.spsolve(generateA(2), f_on_mesh(meshvector(2),2))\n",
    "np.linalg.solve(generateA(2),f_on_mesh(meshvector(2),2))"
   ]
  },
  {
   "cell_type": "code",
   "execution_count": 342,
   "metadata": {
    "collapsed": false
   },
   "outputs": [
    {
     "name": "stdout",
     "output_type": "stream",
     "text": [
      "(9, 9)\n",
      "-4.20391418233\n",
      "[-1.06180459 -2.11940943 -3.16854705 -2.1193484  -4.20391418 -6.2167453\n",
      " -3.16792907 -6.21180145 -8.99106076]\n",
      "[-0.93845559 -1.88196131 -2.90329709 -1.88027848 -3.72889228 -5.65671153\n",
      " -2.89723717 -5.64367616 -8.25449087]\n"
     ]
    },
    {
     "name": "stderr",
     "output_type": "stream",
     "text": [
      "C:\\Users\\Lisa\\Anaconda3\\lib\\site-packages\\scipy\\sparse\\linalg\\dsolve\\linsolve.py:101: SparseEfficiencyWarning: spsolve requires A be CSC or CSR matrix format\n",
      "  SparseEfficiencyWarning)\n"
     ]
    },
    {
     "data": {
      "text/plain": [
       "array([-0.123349  , -0.23744812, -0.26524997, -0.23906991, -0.4750219 ,\n",
       "       -0.56003377, -0.27069191, -0.56812529, -0.7365699 ])"
      ]
     },
     "execution_count": 342,
     "metadata": {},
     "output_type": "execute_result"
    }
   ],
   "source": [
    "n=2\n",
    "x=meshvector(n)\n",
    "u_real=np.zeros(len(x))\n",
    "for i in range(len(x)):\n",
    "    u_real[i]=u(x[i,0],x[i,1])\n",
    "u_approx=sparselinalg.spsolve(generateA(n), f_on_mesh(x,n))\n",
    "print(u(0.5,0.5))\n",
    "print(u_real)\n",
    "print(u_approx)\n",
    "u_real-u_approx"
   ]
  },
  {
   "cell_type": "code",
   "execution_count": null,
   "metadata": {
    "collapsed": true
   },
   "outputs": [],
   "source": []
  },
  {
   "cell_type": "code",
   "execution_count": null,
   "metadata": {
    "collapsed": true
   },
   "outputs": [],
   "source": []
  },
  {
   "cell_type": "code",
   "execution_count": null,
   "metadata": {
    "collapsed": true
   },
   "outputs": [],
   "source": []
  },
  {
   "cell_type": "code",
   "execution_count": null,
   "metadata": {
    "collapsed": true
   },
   "outputs": [],
   "source": []
  },
  {
   "cell_type": "code",
   "execution_count": null,
   "metadata": {
    "collapsed": true
   },
   "outputs": [],
   "source": []
  }
 ],
 "metadata": {
  "kernelspec": {
   "display_name": "Python 3",
   "language": "python",
   "name": "python3"
  },
  "language_info": {
   "codemirror_mode": {
    "name": "ipython",
    "version": 3
   },
   "file_extension": ".py",
   "mimetype": "text/x-python",
   "name": "python",
   "nbconvert_exporter": "python",
   "pygments_lexer": "ipython3",
   "version": "3.6.0"
  }
 },
 "nbformat": 4,
 "nbformat_minor": 2
}
