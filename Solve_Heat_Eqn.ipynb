{
 "cells": [
  {
   "cell_type": "code",
   "execution_count": 2,
   "metadata": {
    "collapsed": false
   },
   "outputs": [],
   "source": [
    "### Solve Heat Equation\n",
    "\n",
    "import numpy as np\n",
    "import matplotlib.pyplot as plt\n",
    "%matplotlib inline\n",
    "import numpy.testing as nptest\n",
    "import scipy.sparse as sparse\n",
    "import scipy.sparse.linalg as sparselinalg"
   ]
  },
  {
   "cell_type": "code",
   "execution_count": 3,
   "metadata": {
    "collapsed": true
   },
   "outputs": [],
   "source": [
    "# we are trying to solve problem for which u(x,y) = x**4*y**5-17*sin(xy) is a solution"
   ]
  },
  {
   "cell_type": "code",
   "execution_count": 4,
   "metadata": {
    "collapsed": true
   },
   "outputs": [],
   "source": [
    "def u(x,y): return x**4*y**5-17*np.sin(x*y)"
   ]
  },
  {
   "cell_type": "code",
   "execution_count": 5,
   "metadata": {
    "collapsed": false
   },
   "outputs": [],
   "source": [
    "#RHS\n",
    "def f(x,y): return -(12*x**2*y**5+20*x**4*y**3+(x**2+y**2)*17*np.sin(x*y))"
   ]
  },
  {
   "cell_type": "code",
   "execution_count": 6,
   "metadata": {
    "collapsed": true
   },
   "outputs": [],
   "source": [
    "# our Omega is (0,1)x(0,1)\n",
    "###generate RHS f, order nodes lexicographically\n",
    "# determine pointwise values for u\n",
    "\n"
   ]
  },
  {
   "cell_type": "code",
   "execution_count": 7,
   "metadata": {
    "collapsed": false
   },
   "outputs": [],
   "source": [
    "#generate mesh, i.e. x_i,y_i (including the boundary)\n",
    "# our n ranges from 2 to 8, i.e. if n=2, we have h_x=h_y=1/4\n",
    "# if h=2**(-n), then there are 2**n+1 grid points in each direction\n",
    "\n",
    "def meshvector(n):\n",
    "    h=2**(-n)\n",
    "    pts=2**n-1\n",
    "    x=np.zeros(((2**n-1)**2,2))\n",
    "    # print(len(x))\n",
    "    for j in range(pts):\n",
    "        for i in range(pts):\n",
    "            x[pts*j+i,0]=(i+1)*2**(-n)\n",
    "            x[pts*j+i,1]=(j+1)*2**(-n)\n",
    "            # print((i,j))\n",
    "            # print(x[n*j+i,:])\n",
    "    return x"
   ]
  },
  {
   "cell_type": "code",
   "execution_count": 8,
   "metadata": {
    "collapsed": false
   },
   "outputs": [],
   "source": [
    "# determine values for f on mesh\n",
    "\n",
    "def f_on_mesh(x,n):\n",
    "    if(n==1):\n",
    "        print(\"error, n too small\")\n",
    "    h=2**(-n)\n",
    "    #print(h)\n",
    "    #print(1/h**2)\n",
    "    len_x=len(x)\n",
    "    f_mesh = np.zeros(len_x)\n",
    "    f_meshNoBound = np.zeros(len_x)\n",
    "    for i in range(len_x):\n",
    "        #print(\"index\", i)\n",
    "        f_mesh[i]=f(x[i,0],x[i,1])\n",
    "        f_meshNoBound[i]=f_mesh[i]\n",
    "        #print(f_mesh[i])\n",
    "        if(i<2**n-1):\n",
    "            f_mesh[i]+=u(x[i,0],x[i,1]-h)/h**2\n",
    "            #print(1)\n",
    "        if(i>=(2**n-1)*(2**n-2)):\n",
    "            f_mesh[i]+=u(x[i,0],x[i,1]+h)/h**2\n",
    "            #print(2)\n",
    "        if((i % (2**n-1))==(2**n-2)):\n",
    "            f_mesh[i]+=u(x[i,0]+h,x[i,1])/h**2\n",
    "            #print(3)\n",
    "            #print(u(x[i,0]+h,x[i,1])/h**2)\n",
    "            #print(u(x[i,0]+h,x[i,1]))\n",
    "        if((i % (2**n-1))==0):\n",
    "            f_mesh[i]+=u(x[i,0]-h,x[i,1])/h**2\n",
    "            # print(i % (2**n-1))\n",
    "            #print(4)\n",
    "            # print(x[i,:])\n",
    "            # print(f_mesh[i])\n",
    "    # print(\"f_mesh_no_bound: \", f_meshNoBound)\n",
    "    return f_mesh        "
   ]
  },
  {
   "cell_type": "code",
   "execution_count": 9,
   "metadata": {
    "collapsed": false,
    "scrolled": true
   },
   "outputs": [],
   "source": [
    "# generating B part of A\n",
    "\n",
    "def BpartA(n):\n",
    "    h=1/2**n\n",
    "    N=2**n-1\n",
    "    data=[[-1/h**2]*(N)**2, [4/h**2]*(N)**2, [-1/h**2]*(N)**2]\n",
    "    offsets = np.array([-1,0,1])\n",
    "    b = sparse.dia_matrix((data, offsets),shape=(N,N)).toarray() \n",
    "    bmultiple = (b,)*(N)\n",
    "    return sparse.csc_matrix(sparse.block_diag(bmultiple))"
   ]
  },
  {
   "cell_type": "code",
   "execution_count": 10,
   "metadata": {
    "collapsed": false
   },
   "outputs": [],
   "source": [
    "def CpartA(n):\n",
    "    h=1/2**n\n",
    "    N=2**n-1\n",
    "    cdata=[[-1/h**2]*(N)**2,[-1/h**2]*(N)**2]\n",
    "    offset=np.array([N,-N])\n",
    "    return sparse.csc_matrix(sparse.dia_matrix((cdata, offset),shape=((N)*(N),(N)*(N))))"
   ]
  },
  {
   "cell_type": "code",
   "execution_count": 11,
   "metadata": {
    "collapsed": true
   },
   "outputs": [],
   "source": [
    "def generateA(n):\n",
    "    A=BpartA(n)+CpartA(n)\n",
    "    #print(A.shape)\n",
    "    return A"
   ]
  },
  {
   "cell_type": "code",
   "execution_count": 12,
   "metadata": {
    "collapsed": false
   },
   "outputs": [
    {
     "name": "stdout",
     "output_type": "stream",
     "text": [
      "n=  2  Error =  0.00385316722582\n",
      "n=  3  Error =  0.00112317320866\n",
      "n=  4  Error =  0.000295968293221\n",
      "n=  5  Error =  7.4670066736e-05\n",
      "n=  6  Error =  1.87102695381e-05\n",
      "n=  7  Error =  4.68136892984e-06\n",
      "n=  8  Error =  1.17052483262e-06\n",
      "n=  9  Error =  2.92654362966e-07\n"
     ]
    }
   ],
   "source": [
    "#compute the real solution at the grid points to check our results\n",
    "for n in range(2,10):\n",
    "    x=meshvector(n)\n",
    "    u_real=u(x[:,0],x[:,1])\n",
    "    u_approx=sparselinalg.spsolve(sparse.csc_matrix(generateA(n)), f_on_mesh(x,n))\n",
    "    print(\"n= \",n, \" Error = \", np.max(abs(u_real-u_approx)))"
   ]
  },
  {
   "cell_type": "code",
   "execution_count": null,
   "metadata": {
    "collapsed": true
   },
   "outputs": [],
   "source": []
  }
 ],
 "metadata": {
  "kernelspec": {
   "display_name": "Python 3",
   "language": "python",
   "name": "python3"
  },
  "language_info": {
   "codemirror_mode": {
    "name": "ipython",
    "version": 3
   },
   "file_extension": ".py",
   "mimetype": "text/x-python",
   "name": "python",
   "nbconvert_exporter": "python",
   "pygments_lexer": "ipython3",
   "version": "3.5.2"
  }
 },
 "nbformat": 4,
 "nbformat_minor": 2
}
