{
 "cells": [
  {
   "cell_type": "code",
   "execution_count": 1,
   "metadata": {
    "collapsed": true
   },
   "outputs": [],
   "source": [
    "### Solve Heat Equation\n",
    "\n",
    "import numpy as np\n",
    "import matplotlib.pyplot as plt\n",
    "%matplotlib inline\n",
    "import numpy.testing as nptest\n",
    "import scipy.sparse as sparse\n",
    "import scipy.sparse.linalg as sparselinalg"
   ]
  },
  {
   "cell_type": "code",
   "execution_count": 2,
   "metadata": {
    "collapsed": true
   },
   "outputs": [],
   "source": [
    "def u(x,y): return x**4*y**5-17*np.sin(x*y)"
   ]
  },
  {
   "cell_type": "code",
   "execution_count": 3,
   "metadata": {
    "collapsed": true
   },
   "outputs": [],
   "source": [
    "def f(x,y): return 12*x**2*y**5+20*x**4*y**3+(x**2+y**2)*17*np.sin(x*y)"
   ]
  },
  {
   "cell_type": "code",
   "execution_count": 4,
   "metadata": {
    "collapsed": true
   },
   "outputs": [],
   "source": [
    "#generate mesh, i.e. x_i,y_i (including the boundary)\n",
    "# our n ranges from 2 to 8, i.e. if n=2, we have h_x=h_y=1/4\n",
    "# if h=2**(-n), then there are 2**n+1 grid points in each direction\n",
    "\n",
    "def meshvector(n):\n",
    "    h=2**(-n)\n",
    "    pts=2**n-1\n",
    "    x=np.zeros((pts**2,2))\n",
    "    # print(len(x))\n",
    "    for j in range(pts):\n",
    "        for i in range(pts):\n",
    "            x[pts*j+i,0]=(i+1)*h\n",
    "            x[pts*j+i,1]=(j+1)*h\n",
    "    return x"
   ]
  },
  {
   "cell_type": "code",
   "execution_count": 5,
   "metadata": {
    "collapsed": false
   },
   "outputs": [],
   "source": [
    "assert meshvector(5).shape == ((2**5-1)**2,2)\n",
    "assert (meshvector(5)[0] == [1/2**5,1/2**5]).all() "
   ]
  },
  {
   "cell_type": "markdown",
   "metadata": {},
   "source": [
    "## Constructing the 9-Point-Stencil Operator"
   ]
  },
  {
   "cell_type": "code",
   "execution_count": 6,
   "metadata": {
    "collapsed": true
   },
   "outputs": [],
   "source": [
    "def BpartA(n):\n",
    "    N=2**n-1\n",
    "    data=[[-2]*(N)**2, [4]*(N)**2, [-2]*(N)**2]\n",
    "    offsets = np.array([-1,0,1])\n",
    "    b = sparse.dia_matrix((data, offsets),shape=(N,N)).toarray() \n",
    "    bmultiple = (b,)*(N)\n",
    "    return sparse.csc_matrix(sparse.block_diag(bmultiple))"
   ]
  },
  {
   "cell_type": "code",
   "execution_count": 7,
   "metadata": {
    "collapsed": true
   },
   "outputs": [],
   "source": [
    "def tmpCpartA(n):\n",
    "    N=2**n-1\n",
    "    data=[[1]*(N)**2, [-2]*(N)**2, [1]*(N)**2]\n",
    "    offsets = np.array([-1,0,1])\n",
    "    b = sparse.dia_matrix((data, offsets),shape=(N,N)).toarray() \n",
    "    bmultiple = (b,)*(N)\n",
    "    return sparse.csc_matrix(sparse.block_diag(bmultiple))"
   ]
  },
  {
   "cell_type": "code",
   "execution_count": 8,
   "metadata": {
    "collapsed": false
   },
   "outputs": [],
   "source": [
    "def generate_9_point_stencil(n):\n",
    "    N = 2**n-1\n",
    "    h=1/2**n\n",
    "    C_tmp = tmpCpartA(n)\n",
    "    null = sparse.csc_matrix((N**2,N))\n",
    "    C_upper = sparse.bmat([[null,C_tmp[:,:-N]]])\n",
    "    C_lower = sparse.bmat([[C_tmp[:,N:],null]])\n",
    "    return 1/h**4 * (BpartA(n)+C_upper + C_lower)"
   ]
  },
  {
   "cell_type": "markdown",
   "metadata": {},
   "source": [
    "## Creating the 5 Point Stencil operator"
   ]
  },
  {
   "cell_type": "code",
   "execution_count": 9,
   "metadata": {
    "collapsed": true
   },
   "outputs": [],
   "source": [
    "# generating B part of A\n",
    "\n",
    "def Bpart_5_point_stencil(n):\n",
    "    h=1/2**n\n",
    "    N=2**n-1\n",
    "    data=[[-1/h**2]*(N)**2, [4/h**2]*(N)**2, [-1/h**2]*(N)**2]\n",
    "    offsets = np.array([-1,0,1])\n",
    "    b = sparse.dia_matrix((data, offsets),shape=(N,N)).toarray() \n",
    "    bmultiple = (b,)*(N)\n",
    "    return sparse.csc_matrix(sparse.block_diag(bmultiple))"
   ]
  },
  {
   "cell_type": "code",
   "execution_count": 10,
   "metadata": {
    "collapsed": true
   },
   "outputs": [],
   "source": [
    "def Cpart_5_point_stencil(n):\n",
    "    h=1/2**n\n",
    "    N=2**n-1\n",
    "    cdata=[[-1/h**2]*(N)**2,[-1/h**2]*(N)**2]\n",
    "    offset=np.array([N,-N])\n",
    "    return sparse.csc_matrix(sparse.dia_matrix((cdata, offset),shape=((N)*(N),(N)*(N))))"
   ]
  },
  {
   "cell_type": "code",
   "execution_count": 11,
   "metadata": {
    "collapsed": true
   },
   "outputs": [],
   "source": [
    "def generate_5_point_stencil(n):\n",
    "    A=Bpart_5_point_stencil(n)+Cpart_5_point_stencil(n)\n",
    "    #print(A.shape)\n",
    "    return A"
   ]
  },
  {
   "cell_type": "markdown",
   "metadata": {},
   "source": [
    "## Creating the right hand site"
   ]
  },
  {
   "cell_type": "code",
   "execution_count": 12,
   "metadata": {
    "collapsed": false
   },
   "outputs": [],
   "source": [
    "def fgrid(n):\n",
    "    N = 2**n-1\n",
    "    h = 2**(-n)\n",
    "    x = meshvector(n)\n",
    "    f_g = f(x[:,0],x[:,1])\n",
    "    L = generate_5_point_stencil(n)\n",
    "    f_boundary_points = np.zeros(N**2)\n",
    "    f_boundary_points[:N] = - 1/12 * f(x[:N,0],0)\n",
    "    f_boundary_points[-N:] = - 1/12 * f(x[-N:,0],1)\n",
    "    f_boundary_points[::N] = - 1/12 * f(0,x[::N,1])\n",
    "    f_boundary_points[N-1::N] = - 1/12 * f(1,x[N-1::N,1])\n",
    "    \n",
    "    phi = f_g + h**2/12 * L.dot(f_g)+f_boundary_points\n",
    "    fgrid = -phi\n",
    "    prefactor = 1/(6*h**2)\n",
    "    \n",
    "    # Now we need to take the border points into account \n",
    "    fgrid[:N] += prefactor*(-u(x[:N,0]-h, x[:N,1]-h) + 2* u(x[:N,0],x[:N,1]-h) - u(x[:N,0]+h, x[:N,1]-h)) \\\n",
    "    + 1/h**2 * u(x[:N,0],x[:N,1]-h)\n",
    "    fgrid[-N:] += prefactor*(-u(x[-N:,0]-h, x[-N,1]+h) + 2 * u(x[-N:,0], x[-N,1]+h) -u(x[-N:,0]+h, x[-N,1]+h)) \\\n",
    "    + 1/h**2 * u(x[-N:,0], x[-N,1]+h)\n",
    "    fgrid[::N] += prefactor*(-u(x[::N,0]-h, x[::N,1]-h) + 2 * u(x[::N,0]-h, x[::N,1]) -u(x[::N,0]-h, x[::N,1]+h)) - 1/h**2 * u(x[::N,0]-h, x[::N,1])\n",
    "    fgrid[N-1::N] += prefactor*(-u(x[N-1::N,0]+h, x[N-1::N,1]-h) + \n",
    "                              2 * u(x[N-1::N,0]+h, x[N-1::N,1]) -\n",
    "                                u(x[N-1::N,0]+h, x[N-1::N,1]+h)) \\\n",
    "    + 1/h**2 * u(x[N-1::N,0]+h, x[N-1::N,1])\n",
    "    \n",
    "    # The cornerpoints are substracted 2 times\n",
    "    fgrid[0]+=prefactor*u(0,0)\n",
    "    fgrid[N-1]+=prefactor*u(1,0)\n",
    "    fgrid[-N]+=prefactor*u(0,1)\n",
    "    fgrid[-1]+=prefactor*u(1,1)\n",
    "    return fgrid"
   ]
  },
  {
   "cell_type": "code",
   "execution_count": 13,
   "metadata": {
    "collapsed": false
   },
   "outputs": [],
   "source": [
    "def approximate_u(n):\n",
    "    h = 2**(-n)\n",
    "    lhs = generate_5_point_stencil(n) + h**2/6 * generate_9_point_stencil(n)\n",
    "    rhs  = fgrid(n)\n",
    "    return sparselinalg.spsolve(sparse.csr_matrix(lhs),rhs)"
   ]
  },
  {
   "cell_type": "code",
   "execution_count": 15,
   "metadata": {
    "collapsed": false
   },
   "outputs": [
    {
     "name": "stdout",
     "output_type": "stream",
     "text": [
      "n = 2  Error =  0.0378410958259  h^4 =  0.00390625 h^2=  0.0625\n",
      "n = 3  Error =  0.0141523686509  h^4 =  0.000244140625 h^2=  0.015625\n",
      "n = 4  Error =  0.00440351671469  h^4 =  1.52587890625e-05 h^2=  0.00390625\n",
      "n = 5  Error =  0.00122269174773  h^4 =  9.5367431640625e-07 h^2=  0.0009765625\n",
      "n = 6  Error =  0.000321034061306  h^4 =  5.960464477539063e-08 h^2=  0.000244140625\n",
      "n = 7  Error =  8.21198275158e-05  h^4 =  3.725290298461914e-09 h^2=  6.103515625e-05\n",
      "n = 8  Error =  2.07539191894e-05  h^4 =  2.3283064365386963e-10 h^2=  1.52587890625e-05\n"
     ]
    }
   ],
   "source": [
    "for n in range(2,9):\n",
    "#n = 2\n",
    "    x = meshvector(n)\n",
    "    u_h = approximate_u(n)\n",
    "    u_real = u(x[:,0],x[:,1])\n",
    "#print(u_real)\n",
    "#print(u_h)\n",
    "    print('n =', n,' Error = ', np.max(abs(u_real-u_h)), ' h^4 = ', 2**(-4*n), 'h^2= ', 2**(-2*n))\n",
    "#phi(x[:,0],x[:,1])"
   ]
  },
  {
   "cell_type": "markdown",
   "metadata": {},
   "source": [
    "## Convergence:\n",
    "\n",
    "There seems to be still an error in the code, as the error converges with $O(h^2)$ and not $O(h^4)$"
   ]
  }
 ],
 "metadata": {
  "kernelspec": {
   "display_name": "Python 3",
   "language": "python",
   "name": "python3"
  },
  "language_info": {
   "codemirror_mode": {
    "name": "ipython",
    "version": 3
   },
   "file_extension": ".py",
   "mimetype": "text/x-python",
   "name": "python",
   "nbconvert_exporter": "python",
   "pygments_lexer": "ipython3",
   "version": "3.5.2"
  }
 },
 "nbformat": 4,
 "nbformat_minor": 0
}
