{
 "cells": [
  {
   "cell_type": "code",
   "execution_count": 1,
   "metadata": {
    "collapsed": true
   },
   "outputs": [],
   "source": [
    "### Solve Heat Equation\n",
    "\n",
    "import numpy as np\n",
    "import matplotlib.pyplot as plt\n",
    "%matplotlib inline\n",
    "import numpy.testing as nptest\n",
    "import scipy.sparse as sparse\n",
    "import scipy.sparse.linalg as sparselinalg"
   ]
  },
  {
   "cell_type": "code",
   "execution_count": 180,
   "metadata": {
    "collapsed": true
   },
   "outputs": [],
   "source": [
    "def u(x,y): return x**4*y**5-17*np.sin(x*y)"
   ]
  },
  {
   "cell_type": "code",
   "execution_count": 80,
   "metadata": {
    "collapsed": true
   },
   "outputs": [],
   "source": [
    "def phi(x,y): return 12*x**2*y**5+20*x**4*y**3+(x**2+y**2)*17*np.sin(x*y)"
   ]
  },
  {
   "cell_type": "code",
   "execution_count": 2,
   "metadata": {
    "collapsed": true
   },
   "outputs": [],
   "source": [
    "#generate mesh, i.e. x_i,y_i (including the boundary)\n",
    "# our n ranges from 2 to 8, i.e. if n=2, we have h_x=h_y=1/4\n",
    "# if h=2**(-n), then there are 2**n+1 grid points in each direction\n",
    "\n",
    "def meshvector(n):\n",
    "    h=2**(-n)\n",
    "    pts=2**n-1\n",
    "    x=np.zeros((pts**2,2))\n",
    "    # print(len(x))\n",
    "    for j in range(pts):\n",
    "        for i in range(pts):\n",
    "            x[pts*j+i,0]=(i+1)*h\n",
    "            x[pts*j+i,1]=(j+1)*h\n",
    "            # print((i,j))\n",
    "            # print(x[n*j+i,:])\n",
    "    return x"
   ]
  },
  {
   "cell_type": "code",
   "execution_count": 17,
   "metadata": {
    "collapsed": false
   },
   "outputs": [],
   "source": [
    "assert meshvector(5).shape == ((2**5-1)**2,2)\n",
    "assert (meshvector(5)[0] == [1/2**5,1/2**5]).all() "
   ]
  },
  {
   "cell_type": "code",
   "execution_count": 150,
   "metadata": {
    "collapsed": false
   },
   "outputs": [],
   "source": [
    "def fgrid(n):\n",
    "    N = 2**n-1\n",
    "    h = 2**(-n)\n",
    "    x = meshvector(n)\n",
    "    fgrid = np.ones(x.shape[0])*np.inf\n",
    "    fgrid = phi(x[:,0],x[:,1])\n",
    "    \n",
    "    fgrid[:N] += 1/(h**2)*(-u(x[:N,0]-h, x[:N,1]-h) + 2* u(x[:N,0],x[:N,1]-h) - u(x[:N,0]+h, x[:N,1]-h))\n",
    "    fgrid[-N:] += 1/(h**2)*(-u(x[-N:,0]-h, x[-N,1]+h) + 2 * u(x[-N:,0], x[-N,1]+h) -u(x[-N:,0]+h, x[-N,1]+h))\n",
    "    fgrid[::N] += 1/(h**2)*(-u(x[::N,0]-h, x[::N,1]-h) + 2 * u(x[::N,0]-h, x[::N,1]) -u(x[::N,0]-h, x[::N,1]+h))\n",
    "    fgrid[N-1::N] += 1/(h**2)*(-u(x[N-1::N,0]+h, x[N-1::N,1]-h) + \n",
    "                              2 * u(x[N-1::N,0]+h, x[N-1::N,1]) -\n",
    "                              u(x[N-1::N,0]+h, x[N-1::N,1]+h))\n",
    "    return fgrid"
   ]
  },
  {
   "cell_type": "markdown",
   "metadata": {},
   "source": [
    "## Constructing the 9-Point-Stencil Operator"
   ]
  },
  {
   "cell_type": "code",
   "execution_count": 59,
   "metadata": {
    "collapsed": true
   },
   "outputs": [],
   "source": [
    "def BpartA(n):\n",
    "    h=1/2**n\n",
    "    N=2**n-1\n",
    "    data=[[-2/h**2]*(N)**2, [4/h**2]*(N)**2, [-2/h**2]*(N)**2]\n",
    "    offsets = np.array([-1,0,1])\n",
    "    b = sparse.dia_matrix((data, offsets),shape=(N,N)).toarray() \n",
    "    bmultiple = (b,)*(N)\n",
    "    return sparse.block_diag(bmultiple).toarray()"
   ]
  },
  {
   "cell_type": "code",
   "execution_count": 60,
   "metadata": {
    "collapsed": true
   },
   "outputs": [],
   "source": [
    "def tmpCpartA(n):\n",
    "    h=1/2**n\n",
    "    N=2**n-1\n",
    "    data=[[1/h**2]*(N)**2, [-2/h**2]*(N)**2, [1/h**2]*(N)**2]\n",
    "    offsets = np.array([-1,0,1])\n",
    "    b = sparse.dia_matrix((data, offsets),shape=(N,N)).toarray() \n",
    "    bmultiple = (b,)*(N)\n",
    "    return sparse.block_diag(bmultiple).toarray()"
   ]
  },
  {
   "cell_type": "code",
   "execution_count": 61,
   "metadata": {
    "collapsed": false
   },
   "outputs": [],
   "source": [
    "def createA(n):\n",
    "    N = 2**n-1\n",
    "    C = tmpCpartA(n)\n",
    "    upperC = np.zeros(C.shape)\n",
    "    upperC[:,N:] = C[:,:-N]\n",
    "    lowerC =  np.zeros(C.shape)\n",
    "    lowerC[:,:-N] = C[:,N:]\n",
    "    return BpartA(n)+upperC + lowerC"
   ]
  },
  {
   "cell_type": "code",
   "execution_count": 152,
   "metadata": {
    "collapsed": false
   },
   "outputs": [
    {
     "data": {
      "image/png": "[encoded data removed]",
      "text/plain": [
       "<matplotlib.figure.Figure at 0x7f7517af3ac8>"
      ]
     },
     "metadata": {},
     "output_type": "display_data"
    }
   ],
   "source": [
    "a = createA(3)\n",
    "fig, ax = plt.subplots(figsize=(18, 5))\n",
    "ax.imshow(np.array(a), interpolation='none')\n",
    "plt.tight_layout()\n",
    "b = sparse.coo_matrix(a)"
   ]
  },
  {
   "cell_type": "code",
   "execution_count": 172,
   "metadata": {
    "collapsed": true
   },
   "outputs": [],
   "source": [
    "def approximate_u(n):\n",
    "    Lambda = createA(n)\n",
    "    f = fgrid(n)\n",
    "    return sparselinalg.spsolve(sparse.csc_matrix(Lambda),f)"
   ]
  },
  {
   "cell_type": "code",
   "execution_count": 190,
   "metadata": {
    "collapsed": false
   },
   "outputs": [
    {
     "data": {
      "text/plain": [
       "array([-1.06180459, -2.11940943, -3.16854705, -2.1193484 , -4.20391418,\n",
       "       -6.2167453 , -3.16792907, -6.21180145, -8.99106076])"
      ]
     },
     "execution_count": 190,
     "metadata": {},
     "output_type": "execute_result"
    }
   ],
   "source": [
    "n = 2\n",
    "x = meshvector(n)\n",
    "u_h = approximate_u(n)\n",
    "u_real = u(x[:,0],x[:,1])\n",
    "u_real\n",
    "#u_h-u_real"
   ]
  },
  {
   "cell_type": "code",
   "execution_count": 191,
   "metadata": {
    "collapsed": false
   },
   "outputs": [
    {
     "data": {
      "text/plain": [
       "-4.2039141823268897"
      ]
     },
     "execution_count": 191,
     "metadata": {},
     "output_type": "execute_result"
    }
   ],
   "source": [
    "u(0.5,0.5)"
   ]
  },
  {
   "cell_type": "code",
   "execution_count": 186,
   "metadata": {
    "collapsed": false
   },
   "outputs": [
    {
     "data": {
      "text/plain": [
       "array([[ 0.25,  0.25],\n",
       "       [ 0.5 ,  0.25],\n",
       "       [ 0.75,  0.25],\n",
       "       [ 0.25,  0.5 ],\n",
       "       [ 0.5 ,  0.5 ],\n",
       "       [ 0.75,  0.5 ],\n",
       "       [ 0.25,  0.75],\n",
       "       [ 0.5 ,  0.75],\n",
       "       [ 0.75,  0.75]])"
      ]
     },
     "execution_count": 186,
     "metadata": {},
     "output_type": "execute_result"
    }
   ],
   "source": [
    "x = meshvector(2)\n",
    "x"
   ]
  },
  {
   "cell_type": "code",
   "execution_count": null,
   "metadata": {
    "collapsed": true
   },
   "outputs": [],
   "source": []
  }
 ],
 "metadata": {
  "kernelspec": {
   "display_name": "Python 3",
   "language": "python",
   "name": "python3"
  },
  "language_info": {
   "codemirror_mode": {
    "name": "ipython",
    "version": 3
   },
   "file_extension": ".py",
   "mimetype": "text/x-python",
   "name": "python",
   "nbconvert_exporter": "python",
   "pygments_lexer": "ipython3",
   "version": "3.5.2"
  }
 },
 "nbformat": 4,
 "nbformat_minor": 0
}
