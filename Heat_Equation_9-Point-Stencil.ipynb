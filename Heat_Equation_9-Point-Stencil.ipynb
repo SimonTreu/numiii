{
 "cells": [
  {
   "cell_type": "code",
   "execution_count": 1,
   "metadata": {
    "collapsed": true
   },
   "outputs": [],
   "source": [
    "### Solve Heat Equation\n",
    "\n",
    "import numpy as np\n",
    "import matplotlib.pyplot as plt\n",
    "%matplotlib inline\n",
    "import numpy.testing as nptest\n",
    "import scipy.sparse as sparse\n",
    "import scipy.sparse.linalg as sparselinalg"
   ]
  },
  {
   "cell_type": "code",
   "execution_count": 2,
   "metadata": {
    "collapsed": true
   },
   "outputs": [],
   "source": [
    "def u(x,y): return x**4*y**5-17*np.sin(x*y)"
   ]
  },
  {
   "cell_type": "code",
   "execution_count": 3,
   "metadata": {
    "collapsed": true
   },
   "outputs": [],
   "source": [
    "def phi(x,y): return 12*x**2*y**5+20*x**4*y**3+(x**2+y**2)*17*np.sin(x*y) #todo i think thats not right yet"
   ]
  },
  {
   "cell_type": "code",
   "execution_count": 4,
   "metadata": {
    "collapsed": true
   },
   "outputs": [],
   "source": [
    "#generate mesh, i.e. x_i,y_i (including the boundary)\n",
    "# our n ranges from 2 to 8, i.e. if n=2, we have h_x=h_y=1/4\n",
    "# if h=2**(-n), then there are 2**n+1 grid points in each direction\n",
    "\n",
    "def meshvector(n):\n",
    "    h=2**(-n)\n",
    "    pts=2**n-1\n",
    "    x=np.zeros((pts**2,2))\n",
    "    # print(len(x))\n",
    "    for j in range(pts):\n",
    "        for i in range(pts):\n",
    "            x[pts*j+i,0]=(i+1)*h\n",
    "            x[pts*j+i,1]=(j+1)*h\n",
    "            # print((i,j))\n",
    "            # print(x[n*j+i,:])\n",
    "    return x"
   ]
  },
  {
   "cell_type": "code",
   "execution_count": 5,
   "metadata": {
    "collapsed": false
   },
   "outputs": [],
   "source": [
    "assert meshvector(5).shape == ((2**5-1)**2,2)\n",
    "assert (meshvector(5)[0] == [1/2**5,1/2**5]).all() "
   ]
  },
  {
   "cell_type": "code",
   "execution_count": 6,
   "metadata": {
    "collapsed": false
   },
   "outputs": [],
   "source": [
    "def fgrid(n):\n",
    "    N = 2**n-1\n",
    "    h = 2**(-n)\n",
    "    x = meshvector(n)\n",
    "    fgrid = phi(x[:,0],x[:,1])\n",
    "    fgrid[:N] += 1/(h**2)*(-u(x[:N,0]-h, x[:N,1]-h) + 2* u(x[:N,0],x[:N,1]-h) - u(x[:N,0]+h, x[:N,1]-h))\n",
    "    fgrid[-N:] += 1/(h**2)*(-u(x[-N:,0]-h, x[-N,1]+h) + 2 * u(x[-N:,0], x[-N,1]+h) -u(x[-N:,0]+h, x[-N,1]+h))\n",
    "    fgrid[::N] += 1/(h**2)*(-u(x[::N,0]-h, x[::N,1]-h) + 2 * u(x[::N,0]-h, x[::N,1]) -u(x[::N,0]-h, x[::N,1]+h))\n",
    "    fgrid[N-1::N] += 1/(h**2)*(-u(x[N-1::N,0]+h, x[N-1::N,1]-h) + \n",
    "                              2 * u(x[N-1::N,0]+h, x[N-1::N,1]) -\n",
    "                                u(x[N-1::N,0]+h, x[N-1::N,1]+h))\n",
    "    fgrid[0]+=1/(h**2)*u(0,0)\n",
    "    fgrid[N-1]+=1/(h**2)*u(1,0)\n",
    "    fgrid[-N]+=1/(h**2)*u(0,1)\n",
    "    fgrid[-1]+=1/(h**2)*u(1,1)\n",
    "    return fgrid"
   ]
  },
  {
   "cell_type": "markdown",
   "metadata": {},
   "source": [
    "## Constructing the 9-Point-Stencil Operator"
   ]
  },
  {
   "cell_type": "code",
   "execution_count": 7,
   "metadata": {
    "collapsed": true
   },
   "outputs": [],
   "source": [
    "def BpartA(n):\n",
    "    h=1/2**n\n",
    "    N=2**n-1\n",
    "    data=[[-2/h**2]*(N)**2, [4/h**2]*(N)**2, [-2/h**2]*(N)**2]\n",
    "    offsets = np.array([-1,0,1])\n",
    "    b = sparse.dia_matrix((data, offsets),shape=(N,N)).toarray() \n",
    "    bmultiple = (b,)*(N)\n",
    "    return sparse.block_diag(bmultiple).toarray()"
   ]
  },
  {
   "cell_type": "code",
   "execution_count": 8,
   "metadata": {
    "collapsed": true
   },
   "outputs": [],
   "source": [
    "def tmpCpartA(n):\n",
    "    h=1/2**n\n",
    "    N=2**n-1\n",
    "    data=[[1/h**2]*(N)**2, [-2/h**2]*(N)**2, [1/h**2]*(N)**2]\n",
    "    offsets = np.array([-1,0,1])\n",
    "    b = sparse.dia_matrix((data, offsets),shape=(N,N)).toarray() \n",
    "    bmultiple = (b,)*(N)\n",
    "    return sparse.block_diag(bmultiple).toarray()"
   ]
  },
  {
   "cell_type": "code",
   "execution_count": 9,
   "metadata": {
    "collapsed": false
   },
   "outputs": [],
   "source": [
    "def createA(n):\n",
    "    N = 2**n-1\n",
    "    C = tmpCpartA(n)\n",
    "    upperC = np.zeros(C.shape)\n",
    "    upperC[:,N:] = C[:,:-N]\n",
    "    lowerC =  np.zeros(C.shape)\n",
    "    lowerC[:,:-N] = C[:,N:]\n",
    "    return BpartA(n)+upperC + lowerC"
   ]
  },
  {
   "cell_type": "code",
   "execution_count": 10,
   "metadata": {
    "collapsed": false
   },
   "outputs": [
    {
     "data": {
      "image/png": "[encoded data removed]",
      "text/plain": [
       "<matplotlib.figure.Figure at 0x7f99d525d2e8>"
      ]
     },
     "metadata": {},
     "output_type": "display_data"
    }
   ],
   "source": [
    "a = createA(2)\n",
    "fig, ax = plt.subplots(figsize=(18, 5))\n",
    "ax.imshow(np.array(a), interpolation='none')\n",
    "plt.tight_layout()\n",
    "b = sparse.coo_matrix(a)"
   ]
  },
  {
   "cell_type": "code",
   "execution_count": 11,
   "metadata": {
    "collapsed": true
   },
   "outputs": [],
   "source": [
    "def approximate_u(n):\n",
    "    Lambda = createA(n)\n",
    "    f = fgrid(n)\n",
    "    return sparselinalg.spsolve(sparse.csc_matrix(Lambda),f)"
   ]
  },
  {
   "cell_type": "code",
   "execution_count": 12,
   "metadata": {
    "collapsed": false
   },
   "outputs": [
    {
     "name": "stdout",
     "output_type": "stream",
     "text": [
      "0.405241129747\n",
      "3.8489390525\n",
      "17.6107279876\n",
      "72.6598453109\n",
      "293.179353741\n"
     ]
    }
   ],
   "source": [
    "for n in range(2,7): #TODO THIS IS INCORRECT\n",
    "#n = 2\n",
    "    x = meshvector(n)\n",
    "    u_h = approximate_u(n)\n",
    "    u_real = u(x[:,0],x[:,1])\n",
    "#print(u_real)\n",
    "#print(u_h)\n",
    "    print(np.max(abs(u_real-u_h)))\n",
    "#phi(x[:,0],x[:,1])"
   ]
  }
 ],
 "metadata": {
  "kernelspec": {
   "display_name": "Python 3",
   "language": "python",
   "name": "python3"
  },
  "language_info": {
   "codemirror_mode": {
    "name": "ipython",
    "version": 3
   },
   "file_extension": ".py",
   "mimetype": "text/x-python",
   "name": "python",
   "nbconvert_exporter": "python",
   "pygments_lexer": "ipython3",
   "version": "3.5.2"
  }
 },
 "nbformat": 4,
 "nbformat_minor": 0
}
